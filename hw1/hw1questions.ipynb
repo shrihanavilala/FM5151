{
 "cells": [
  {
   "cell_type": "markdown",
   "metadata": {},
   "source": [
    "# FM5151 HW1 Analysis\n"
   ]
  },
  {
   "cell_type": "code",
   "execution_count": 1,
   "metadata": {},
   "outputs": [],
   "source": [
    "import mortgage\n",
    "import root"
   ]
  },
  {
   "cell_type": "markdown",
   "metadata": {},
   "source": [
    "**Given the following loan schedule:**\n",
    "\n",
    "- Initial Balance = 500,000\n",
    "- APR = 7%\n",
    "- Term = 30 years\n"
   ]
  },
  {
   "cell_type": "markdown",
   "metadata": {},
   "source": [
    "## Q1:\n",
    "\n",
    "- What is the solved for monthly payment amount to pay off the loan at the end\n",
    "  of the term with level payments?\n"
   ]
  },
  {
   "cell_type": "markdown",
   "metadata": {},
   "source": [
    "Since it must be accurate to 6 digits, we need to evalute $P = \\displaystyle \\frac{500,000}{\\frac{1-0.9942^{360}}{0.00583333}}.$ This evaluates to $\\$3,326.51$."
   ]
  },
  {
   "cell_type": "markdown",
   "metadata": {},
   "source": [
    "## Q2:\n",
    "\n",
    "- How much total principal is repaid over the duration of the loan?\n"
   ]
  },
  {
   "cell_type": "markdown",
   "metadata": {},
   "source": [
    "In total, $3326.51*360=$1,197,544.49 is paid, with $500,000 being the original loan."
   ]
  },
  {
   "cell_type": "markdown",
   "metadata": {},
   "source": [
    "## Q3:\n",
    "\n",
    "- How much total interest is paid over the duration of the loan?\n"
   ]
  },
  {
   "cell_type": "markdown",
   "metadata": {},
   "source": [
    "$697,544.49 is paid in interest."
   ]
  },
  {
   "cell_type": "markdown",
   "metadata": {},
   "source": [
    "## Q4\n",
    "\n",
    "- Does more of the payment go to interest or principal at the beginning of the loan?\n",
    "- Does this ratio change throughout the life of the loan?\n"
   ]
  },
  {
   "cell_type": "markdown",
   "metadata": {},
   "source": [
    "Since you only pay interest on the principal that you still have remaining, the beginning payments will be mostly interest in an amortized loan. The ratio of interest to principal becomes smaller throughout the life of the loan."
   ]
  },
  {
   "cell_type": "markdown",
   "metadata": {},
   "source": [
    "## Q5:\n",
    "\n",
    "- If you pay an additional $50 per month, in what month is the mortgage fully\n",
    "  paid off?\n",
    "- What is the final payment amount required in that month? Find this value using\n",
    "  code, rather than inspection.\n"
   ]
  },
  {
   "cell_type": "markdown",
   "metadata": {},
   "source": [
    "Using $P = \\frac{L}{a_n}$, we need to solve for $\\displaystyle 3376.51 = \\frac{500,000}{\\frac{1-0.9942^n}{0.0058333}}.$ Since n =342.78, the mortgage would be paid off in the 343th month."
   ]
  },
  {
   "cell_type": "code",
   "execution_count": 7,
   "metadata": {},
   "outputs": [
    {
     "data": {
      "text/plain": [
       "2618.8429758467273"
      ]
     },
     "execution_count": 7,
     "metadata": {},
     "output_type": "execute_result"
    }
   ],
   "source": [
    "schedule = mortgage.amortize(0.07, 30, 500000, 3376.51)\n",
    "schedule[\"pmt\"][342]\n",
    "# Outputted $2618.84"
   ]
  },
  {
   "cell_type": "markdown",
   "metadata": {},
   "source": [
    "## Q6:\n",
    "\n",
    "- What payment amount would be required in the last month to pay off the\n",
    "  mortgage if you were allowed to pay $50 less per month?\n"
   ]
  },
  {
   "cell_type": "code",
   "execution_count": 9,
   "metadata": {},
   "outputs": [
    {
     "data": {
      "text/plain": [
       "64278.08030999295"
      ]
     },
     "execution_count": 9,
     "metadata": {},
     "output_type": "execute_result"
    }
   ],
   "source": [
    "schedule = mortgage.amortize(0.07, 30, 500000, 3276.51)\n",
    "schedule[\"pmt\"][359]\n",
    "#Outputted $64278.08"
   ]
  },
  {
   "cell_type": "markdown",
   "metadata": {},
   "source": [
    "## Q7:\n"
   ]
  },
  {
   "cell_type": "markdown",
   "metadata": {},
   "source": [
    "- Using the same loan terms above, use your lab 2 implementation to solve for\n",
    "  the monthly payment amount required to generate the following amounts of total\n",
    "  interest:\n",
    "\n",
    "  - 100,000\n",
    "  - 250,000\n",
    "  - 500,000\n",
    "  - 750,000\n",
    "  - 1,000,000\n",
    "  - 2,000,000\n"
   ]
  },
  {
   "cell_type": "markdown",
   "metadata": {},
   "source": [
    "Corresponding equation is $I_{total} = P*n - L$.  Thus, $I_{total} = \\frac{L*n}{a_{n, i}}- L$"
   ]
  },
  {
   "cell_type": "code",
   "execution_count": 21,
   "metadata": {},
   "outputs": [
    {
     "name": "stdout",
     "output_type": "stream",
     "text": [
      "9424.422795152048\n",
      "5028.573793321326\n",
      "3667.566396716826\n",
      "3270.840632175192\n",
      "3103.1528837772776\n",
      "2937.4441654501825\n"
     ]
    }
   ],
   "source": [
    "def months_to_pay(n, interest_amount) -> float:\n",
    "    annuity = (1-(0.9942004**n))/0.0058333      \n",
    "    return (500_000*n)/annuity - 500_000-interest_amount\n",
    "intersts = [100000, 250000,500000,750000,1000000,2000000]\n",
    "for each in intersts:\n",
    "    months = root.bisection(lambda n: months_to_pay(n, each), 1, 1000, max_iters=10000)\n",
    "    print(500_000/((1-(0.9942**months))/0.0058333) )\n"
   ]
  }
 ],
 "metadata": {
  "kernelspec": {
   "display_name": "fm5151",
   "language": "python",
   "name": "python3"
  },
  "language_info": {
   "codemirror_mode": {
    "name": "ipython",
    "version": 3
   },
   "file_extension": ".py",
   "mimetype": "text/x-python",
   "name": "python",
   "nbconvert_exporter": "python",
   "pygments_lexer": "ipython3",
   "version": "3.11.5"
  }
 },
 "nbformat": 4,
 "nbformat_minor": 2
}

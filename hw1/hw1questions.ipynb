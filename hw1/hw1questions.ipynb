{
 "cells": [
  {
   "cell_type": "markdown",
   "metadata": {},
   "source": [
    "# FM5151 HW1 Analysis\n"
   ]
  },
  {
   "cell_type": "code",
   "execution_count": 18,
   "metadata": {},
   "outputs": [],
   "source": [
    "import mortgage\n",
    "import root"
   ]
  },
  {
   "cell_type": "markdown",
   "metadata": {},
   "source": [
    "**Given the following loan schedule:**\n",
    "\n",
    "- Initial Balance = 500,000\n",
    "- APR = 7%\n",
    "- Term = 30 years\n"
   ]
  },
  {
   "cell_type": "markdown",
   "metadata": {},
   "source": [
    "## Q1:\n",
    "\n",
    "- What is the solved for monthly payment amount to pay off the loan at the end\n",
    "  of the term with level payments?\n"
   ]
  },
  {
   "cell_type": "markdown",
   "metadata": {},
   "source": [
    "Since it must be accurate to 6 digits, we need to evalute $P = \\displaystyle \\frac{500,000}{\\frac{1-0.9942^{360}}{0.00583333}}.$ This evaluates to $\\$3327.70$."
   ]
  },
  {
   "cell_type": "markdown",
   "metadata": {},
   "source": [
    "## Q2:\n",
    "\n",
    "- How much total principal is repaid over the duration of the loan?\n"
   ]
  },
  {
   "cell_type": "markdown",
   "metadata": {},
   "source": [
    "In total, $3327.70*360=$1,197,972 is paid, with $500,000 being the original loan."
   ]
  },
  {
   "cell_type": "markdown",
   "metadata": {},
   "source": [
    "## Q3:\n",
    "\n",
    "- How much total interest is paid over the duration of the loan?\n"
   ]
  },
  {
   "cell_type": "markdown",
   "metadata": {},
   "source": [
    "$697,972 is paid in interest."
   ]
  },
  {
   "cell_type": "markdown",
   "metadata": {},
   "source": [
    "## Q4\n",
    "\n",
    "- Does more of the payment go to interest or principal at the beginning of the loan?\n",
    "- Does this ratio change throughout the life of the loan?\n"
   ]
  },
  {
   "cell_type": "markdown",
   "metadata": {},
   "source": [
    "Since you only pay interest on the principal that you still have remaining, the beginning payments will be mostly interest in an amortized loan. The ratio of interest to principal becomes smaller throughout the life of the loan."
   ]
  },
  {
   "cell_type": "markdown",
   "metadata": {},
   "source": [
    "## Q5:\n",
    "\n",
    "- If you pay an additional $50 per month, in what month is the mortgage fully\n",
    "  paid off?\n",
    "- What is the final payment amount required in that month? Find this value using\n",
    "  code, rather than inspection.\n"
   ]
  },
  {
   "cell_type": "markdown",
   "metadata": {},
   "source": [
    "Using $P = \\frac{L}{a_n}$, we need to solve for $\\displaystyle 3354.69 = \\frac{500,000}{\\frac{1-0.9942^n}{0.0058333}}.$ Since n =350.006, the mortgage would be paid off in the 351th month."
   ]
  },
  {
   "cell_type": "code",
   "execution_count": 10,
   "metadata": {},
   "outputs": [
    {
     "data": {
      "text/plain": [
       "62.2383226087382"
      ]
     },
     "execution_count": 10,
     "metadata": {},
     "output_type": "execute_result"
    }
   ],
   "source": [
    "schedule = mortgage.amortize(0.07, 30, 500000, 3354.69)\n",
    "schedule[\"pmt\"][350]\n",
    "# Outputted $62.24"
   ]
  },
  {
   "cell_type": "markdown",
   "metadata": {},
   "source": [
    "## Q6:\n",
    "\n",
    "- What payment amount would be required in the last month to pay off the\n",
    "  mortgage if you were allowed to pay $50 less per month?\n"
   ]
  },
  {
   "cell_type": "code",
   "execution_count": 12,
   "metadata": {},
   "outputs": [
    {
     "data": {
      "text/plain": [
       "90876.0274378304"
      ]
     },
     "execution_count": 12,
     "metadata": {},
     "output_type": "execute_result"
    }
   ],
   "source": [
    "schedule = mortgage.amortize(0.07, 30, 500000, 3254.69)\n",
    "schedule[\"pmt\"][359]\n",
    "#Outputted $90876.03"
   ]
  },
  {
   "cell_type": "markdown",
   "metadata": {},
   "source": [
    "## Q7:\n"
   ]
  },
  {
   "cell_type": "markdown",
   "metadata": {},
   "source": [
    "- Using the same loan terms above, use your lab 2 implementation to solve for\n",
    "  the monthly payment amount required to generate the following amounts of total\n",
    "  interest:\n",
    "\n",
    "  - 100,000\n",
    "  - 250,000\n",
    "  - 500,000\n",
    "  - 750,000\n",
    "  - 1,000,000\n",
    "  - 2,000,000\n"
   ]
  },
  {
   "cell_type": "markdown",
   "metadata": {},
   "source": [
    "Corresponding equation is $I_{total} = P*360 - L$. "
   ]
  },
  {
   "cell_type": "code",
   "execution_count": 24,
   "metadata": {},
   "outputs": [
    {
     "name": "stdout",
     "output_type": "stream",
     "text": [
      "1666.6666917444672\n",
      "2083.333306291024\n",
      "2777.7778001109255\n",
      "3472.222235541267\n",
      "4166.666670971608\n",
      "6944.444471082534\n"
     ]
    }
   ],
   "source": [
    "def total_interest(monthly_pmt, target_interest) -> float:\n",
    "    value =  monthly_pmt*360-500000-target_interest #Will equal zero when monthly payment leads to total interest\n",
    "    return value\n",
    "\n",
    "intersts = [100000, 250000,500000,750000,1000000,2000000]\n",
    "for each in intersts:\n",
    "    print(root.bisection(lambda pmt: total_interest(pmt, each), 0, 16050000,tol=0.01, max_iters=1000))\n"
   ]
  }
 ],
 "metadata": {
  "kernelspec": {
   "display_name": "fm5151",
   "language": "python",
   "name": "python3"
  },
  "language_info": {
   "codemirror_mode": {
    "name": "ipython",
    "version": 3
   },
   "file_extension": ".py",
   "mimetype": "text/x-python",
   "name": "python",
   "nbconvert_exporter": "python",
   "pygments_lexer": "ipython3",
   "version": "3.11.5"
  }
 },
 "nbformat": 4,
 "nbformat_minor": 2
}

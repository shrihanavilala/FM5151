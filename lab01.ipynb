{
 "cells": [
  {
   "cell_type": "markdown",
   "id": "efe283ec",
   "metadata": {},
   "source": [
    "# Lab 1\n",
    "\n",
    "Some additional practice.\n"
   ]
  },
  {
   "cell_type": "markdown",
   "id": "f8f1cb36",
   "metadata": {},
   "source": [
    "## Submission instructions\n",
    "\n",
    "- **Due:** Wednesday 9/10/25 by 5:30 PM CT\n",
    "- **Files**: You'll only submit one file through GitHub: _lab1.ipynb_ with\n",
    "  answers to these prompts.\n"
   ]
  },
  {
   "cell_type": "markdown",
   "id": "0ed51dc9",
   "metadata": {},
   "source": [
    "NOTE: the due date says by 5:30 PM, however if you're struggling to submit your\n",
    "assignment this first time don't worry, I will help you after class in office\n",
    "hours and it won't be considered late.\n"
   ]
  },
  {
   "cell_type": "markdown",
   "id": "c92c2273",
   "metadata": {},
   "source": [
    "## Q1\n"
   ]
  },
  {
   "cell_type": "markdown",
   "id": "cb79001e",
   "metadata": {},
   "source": [
    "Sometimes we only want part of the data in a structure provided to us, and we\n",
    "want to convert it into an easier format to use.\n",
    "\n",
    "Create a list of tuples from this dictionary, and assign it to the variable\n",
    "`output`, containing just the movie name and the rating, and display the\n",
    "resulting `output`.\n"
   ]
  },
  {
   "cell_type": "code",
   "execution_count": 42,
   "id": "026ce73d",
   "metadata": {},
   "outputs": [],
   "source": [
    "some_rotten_tomatoes_ratings = {\n",
    "    \"movies\": {\n",
    "        \"The Godfather\": {\"rating\": 97, \"critique\": \"Solid movie\"},\n",
    "        \"How to Train your Dragon\": {\"rating\": 99, \"critique\": \"Excellent\"},\n",
    "        \"Zootopia\": {\"rating\": 98, \"critique\": \"That Shakira song slaps\"},\n",
    "    }\n",
    "}"
   ]
  },
  {
   "cell_type": "code",
   "execution_count": 43,
   "id": "5bb02af2",
   "metadata": {},
   "outputs": [
    {
     "name": "stdout",
     "output_type": "stream",
     "text": [
      "[('The Godfather', 97), ('How to Train your Dragon', 99), ('Zootopia', 98)]\n"
     ]
    }
   ],
   "source": [
    "output = []\n",
    "for movie, values in some_rotten_tomatoes_ratings.get(\"movies\").items():\n",
    "    output.append((movie, values[\"rating\"]))\n",
    "print(output)"
   ]
  },
  {
   "cell_type": "markdown",
   "id": "38c35b4a",
   "metadata": {},
   "source": [
    "**Expected output**:\n",
    "\n",
    "```\n",
    "[('The Godfather', 97), ('How to Train your Dragon', 99), ('Zootopia', 98)]\n",
    "```\n"
   ]
  },
  {
   "cell_type": "markdown",
   "id": "935aea93",
   "metadata": {},
   "source": [
    "## Q2\n"
   ]
  },
  {
   "cell_type": "markdown",
   "id": "63ff66f5",
   "metadata": {},
   "source": [
    "Review the bubble sort logic\n",
    "[here](https://en.wikipedia.org/wiki/Bubble_sort#Pseudocode_implementation) and\n",
    "translate the pseudocode into Python. Sort the list in place and display\n",
    "`some_list` once it's sorted.\n",
    "\n",
    "NOTE: you can use the simplest version, no need to optimize (unless you want\n",
    "to).\n"
   ]
  },
  {
   "cell_type": "code",
   "execution_count": 44,
   "id": "7b56a15e",
   "metadata": {},
   "outputs": [
    {
     "name": "stdout",
     "output_type": "stream",
     "text": [
      "[0, 1, 1, 2, 2, 3, 3, 5, 5, 6, 7, 7, 8, 8, 9]\n"
     ]
    }
   ],
   "source": [
    "some_list = [5, 2, 8, 7, 2, 3, 9, 1, 8, 0, 5, 3, 7, 1, 6]\n",
    "# Your implementation\n",
    "def is_sorted(lst):\n",
    "    for each in range(len(lst)-1):\n",
    "        if lst[each] > lst[each+1]:\n",
    "            return False\n",
    "    return True\n",
    "    \n",
    "while not is_sorted(some_list):\n",
    "    for i in range(len(some_list)-1):\n",
    "        if some_list[i] > some_list[i+1]:\n",
    "            some_list[i], some_list[i+1] = some_list[i+1], some_list[i]\n",
    "\n",
    "print(some_list)"
   ]
  },
  {
   "cell_type": "markdown",
   "id": "1f9dc4a0",
   "metadata": {},
   "source": [
    "**Expected output:**\n",
    "\n",
    "`[0, 1, 1, 2, 2, 3, 3, 5, 5, 6, 7, 7, 8, 8, 9]`\n"
   ]
  },
  {
   "cell_type": "markdown",
   "id": "b928d590",
   "metadata": {},
   "source": [
    "**Q3**:\n",
    "\n",
    "Implement Heron's method without using the built-in `abs` function.\n"
   ]
  },
  {
   "cell_type": "code",
   "execution_count": 49,
   "id": "515e7760",
   "metadata": {},
   "outputs": [
    {
     "name": "stdout",
     "output_type": "stream",
     "text": [
      "111.11\n"
     ]
    }
   ],
   "source": [
    "y = 12345\n",
    "# Your implementation\n",
    "x=y/2 # Initial Approximation\n",
    "while (x**2-y) > 0.1 or (x**2-y) < -0.1: #abs() alternative\n",
    "    x = 0.5 * (x+(y/x))\n",
    "\n",
    "print(round(x, 2)) "
   ]
  }
 ],
 "metadata": {
  "kernelspec": {
   "display_name": "fm5151",
   "language": "python",
   "name": "python3"
  },
  "language_info": {
   "codemirror_mode": {
    "name": "ipython",
    "version": 3
   },
   "file_extension": ".py",
   "mimetype": "text/x-python",
   "name": "python",
   "nbconvert_exporter": "python",
   "pygments_lexer": "ipython3",
   "version": "3.11.5"
  }
 },
 "nbformat": 4,
 "nbformat_minor": 5
}

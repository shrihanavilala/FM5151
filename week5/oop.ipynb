{
 "cells": [
  {
   "cell_type": "markdown",
   "metadata": {},
   "source": [
    "# Object oriented programming"
   ]
  },
  {
   "cell_type": "markdown",
   "metadata": {},
   "source": [
    "Object Oriented Programming (OOP) is a programming *paradigm* that allows us to\n",
    "create custom types with their own properties and/or behaviors. The paradigm\n",
    "allows us to organize data and operations that act on that data by particular\n",
    "concepts. When done right, OOP can help make our code more comprehendible,\n",
    "better organized and more flexible. When done wrong it can turn our code into an\n",
    "all out mess!\n",
    "\n",
    "To code in an object oriented way requires programming language support. Python\n",
    "provides this."
   ]
  },
  {
   "cell_type": "code",
   "execution_count": null,
   "metadata": {},
   "outputs": [],
   "source": [
    "from typing import Self, Optional, Callable\n",
    "from datetime import date\n",
    "import random"
   ]
  },
  {
   "cell_type": "markdown",
   "metadata": {},
   "source": [
    "## The 3 pillars of OOP\n",
    "\n",
    "- **Encapsulation**: keep things together and hide what's not relevant\n",
    "- **Inheritance**: reuse common functionality\n",
    "- **Polymorphism**: objects of common super type are substitutable (*changing\n",
    "  shape*)"
   ]
  },
  {
   "cell_type": "markdown",
   "metadata": {},
   "source": [
    "### Desire for encapsulation"
   ]
  },
  {
   "cell_type": "markdown",
   "metadata": {},
   "source": [
    "Say we have three separate strings for first, middle and last name. We can\n",
    "always just organize this with three separate variables."
   ]
  },
  {
   "cell_type": "markdown",
   "metadata": {},
   "source": [
    "Could also have 3 separate variables:"
   ]
  },
  {
   "cell_type": "code",
   "execution_count": null,
   "metadata": {},
   "outputs": [],
   "source": [
    "first_name = \"First\" \n",
    "middle_name = \"Middle\" \n",
    "last_name = \"last\""
   ]
  },
  {
   "cell_type": "markdown",
   "metadata": {},
   "source": [
    "However, since it's all a part of the same thing, it's convenient to keep these\n",
    "things together."
   ]
  },
  {
   "cell_type": "code",
   "execution_count": null,
   "metadata": {},
   "outputs": [],
   "source": [
    "name = (\"First\", \"Middle\", \"Last\")\n",
    "name"
   ]
  },
  {
   "cell_type": "markdown",
   "metadata": {},
   "source": [
    "However, tuples are immutable. We can't change them."
   ]
  },
  {
   "cell_type": "code",
   "execution_count": null,
   "metadata": {
    "tags": [
     "raises-exception"
    ]
   },
   "outputs": [],
   "source": [
    "name[0] = \"Change name?\""
   ]
  },
  {
   "cell_type": "markdown",
   "metadata": {},
   "source": [
    "Lists perhaps give too much freedom."
   ]
  },
  {
   "cell_type": "code",
   "execution_count": null,
   "metadata": {},
   "outputs": [],
   "source": [
    "name = [\"First\", \"Middle\", \"Last\"]"
   ]
  },
  {
   "cell_type": "code",
   "execution_count": null,
   "metadata": {},
   "outputs": [],
   "source": [
    "name[0] = \"Ben\"\n",
    "name.append(\"Bean\")\n",
    "name.append(\"Benny\")\n",
    "name"
   ]
  },
  {
   "cell_type": "markdown",
   "metadata": {},
   "source": [
    "Also, which index represented first, middle and last? Not necessarily clear from\n",
    "the ordering. Class attributes or properties that are clearly defined will help\n",
    "us solve this issue."
   ]
  },
  {
   "cell_type": "markdown",
   "metadata": {},
   "source": [
    "### Desire for inheritance"
   ]
  },
  {
   "cell_type": "markdown",
   "metadata": {},
   "source": [
    "Say we're building a systematic trading system and we want to be able to program\n",
    "different strategies. Some behaviors and properties that might go along with a\n",
    "strategy could be the following:\n",
    "\n",
    "**Strategy interface:**\n",
    "\n",
    "- `starting_cash`: the initial amount of capital allocated to the strategy\n",
    "- `portfolio`: the strategy's holdings\n",
    "- `submit_order(...)`: submit an order to a broker\n",
    "- `load_historical_data(...)`: load historical data over some look back period\n",
    "- `on_market_data(...)`: how the strategy responds to a new market data event\n",
    "- `on_order_update(...)`: how the strategy responds when there's an update to an\n",
    "  order it submitted"
   ]
  },
  {
   "cell_type": "markdown",
   "metadata": {},
   "source": [
    "Which of these might be common across all strategies and which might change with\n",
    "each strategy? Inheritance allows us to inherit common functionality from a\n",
    "parent type and override parts of an interface for details specific to the child\n",
    "type."
   ]
  },
  {
   "cell_type": "markdown",
   "metadata": {},
   "source": [
    "### Desire for polymorphism"
   ]
  },
  {
   "cell_type": "markdown",
   "metadata": {},
   "source": [
    "In the example above, Polymorphism would allow us to achieve more code reuse and\n",
    "flexibility by composing the `Strategy` type we create with other families of\n",
    "types, such as a `DataProvider` or a `Broker` type.\n",
    "\n",
    "- We might have data stored (a `DiskDataProvider`) or in a database (a\n",
    "  `DatabaseDataProvider`) and the particular strategy wouldn't care as long as\n",
    "  the providers conform to the same interface\n",
    "- We could have a broker we use for live trading (a `LiveBroker`), and one we\n",
    "  use for backtesting, e.g. (a `BacktestBroker`). Similarly, these can be\n",
    "  swapped out in the `Strategy` to allow us to reuse the strategy's code for\n",
    "  both live trading and testing."
   ]
  },
  {
   "cell_type": "markdown",
   "metadata": {},
   "source": [
    "We've seen also seen Polymorphism in action by passing around functions with the\n",
    "same signature and why this is useful. All univariate functions were\n",
    "substitutable."
   ]
  },
  {
   "cell_type": "markdown",
   "metadata": {},
   "source": [
    "> In Python we don't *need* objects to be of the same parent type to achieve\n",
    "> polymorphism, like we would in a language such as C#, since Python is a\n",
    "> duck-typed language. However it can be helpful for documentation purposes.\n",
    "> (See below for details on duck typing)"
   ]
  },
  {
   "cell_type": "markdown",
   "metadata": {},
   "source": [
    "## Basics"
   ]
  },
  {
   "cell_type": "markdown",
   "metadata": {},
   "source": [
    "### Creating a class"
   ]
  },
  {
   "cell_type": "markdown",
   "metadata": {},
   "source": [
    "A *class* is a name for our custom type. We can define what data it will store,\n",
    "what properties it will have, and what operations it will have."
   ]
  },
  {
   "cell_type": "markdown",
   "metadata": {},
   "source": [
    "The most basic thing we can do."
   ]
  },
  {
   "cell_type": "code",
   "execution_count": null,
   "metadata": {},
   "outputs": [],
   "source": [
    "class Name:\n",
    "    pass"
   ]
  },
  {
   "cell_type": "markdown",
   "metadata": {},
   "source": [
    "From our class, we can create multiple *instances* (objects)."
   ]
  },
  {
   "cell_type": "code",
   "execution_count": null,
   "metadata": {},
   "outputs": [],
   "source": [
    "name1 = Name()\n",
    "name2 = Name()\n",
    "name1 is name2"
   ]
  },
  {
   "cell_type": "markdown",
   "metadata": {},
   "source": [
    "### Dynamic attributes"
   ]
  },
  {
   "cell_type": "markdown",
   "metadata": {},
   "source": [
    "Can be attached to objects."
   ]
  },
  {
   "cell_type": "code",
   "execution_count": null,
   "metadata": {},
   "outputs": [],
   "source": [
    "name1.first = \"Ben\"\n",
    "name1.last = \"Carter\"\n",
    "print(name1.first, name1.last)"
   ]
  },
  {
   "cell_type": "markdown",
   "metadata": {},
   "source": [
    "However it is at the object level..."
   ]
  },
  {
   "cell_type": "code",
   "execution_count": null,
   "metadata": {
    "tags": [
     "raises-exception"
    ]
   },
   "outputs": [],
   "source": [
    "print(name2.first, name2.last)"
   ]
  },
  {
   "cell_type": "markdown",
   "metadata": {},
   "source": [
    "We want to define some properties our class can take."
   ]
  },
  {
   "cell_type": "markdown",
   "metadata": {},
   "source": [
    "One way is with *class variables* which have a default value that all instances\n",
    "of the class will have, but can be overwritten by particular instances."
   ]
  },
  {
   "cell_type": "code",
   "execution_count": null,
   "metadata": {},
   "outputs": [],
   "source": [
    "class Name:\n",
    "    # A couple class level variables with defaults\n",
    "    first: str = \"\"\n",
    "    last: str = \"\""
   ]
  },
  {
   "cell_type": "code",
   "execution_count": null,
   "metadata": {},
   "outputs": [],
   "source": [
    "name = Name()"
   ]
  },
  {
   "cell_type": "code",
   "execution_count": null,
   "metadata": {},
   "outputs": [],
   "source": [
    "name.first, name.last"
   ]
  },
  {
   "cell_type": "code",
   "execution_count": null,
   "metadata": {},
   "outputs": [],
   "source": [
    "name.first = \"Tiger\"\n",
    "name.last = \"Woods\""
   ]
  },
  {
   "cell_type": "code",
   "execution_count": null,
   "metadata": {},
   "outputs": [],
   "source": [
    "name.first, name.last"
   ]
  },
  {
   "cell_type": "code",
   "execution_count": null,
   "metadata": {},
   "outputs": [],
   "source": [
    "name2 = Name()\n",
    "name2.first, name2.last"
   ]
  },
  {
   "cell_type": "markdown",
   "metadata": {},
   "source": [
    "Now we've changed the default for all other instances."
   ]
  },
  {
   "cell_type": "code",
   "execution_count": null,
   "metadata": {},
   "outputs": [],
   "source": [
    "Name.first = \"Phil\""
   ]
  },
  {
   "cell_type": "code",
   "execution_count": null,
   "metadata": {},
   "outputs": [],
   "source": [
    "name2.first"
   ]
  },
  {
   "cell_type": "markdown",
   "metadata": {},
   "source": [
    "Class variables are good when you want to share common traits, but for things\n",
    "like a name that are expected to be different across instances, *instance*\n",
    "variables are better."
   ]
  },
  {
   "cell_type": "markdown",
   "metadata": {},
   "source": [
    "### Constructors"
   ]
  },
  {
   "cell_type": "markdown",
   "metadata": {},
   "source": [
    "Constructors are special *methods* that are called when an instance of an object\n",
    "is created. Recall that *methods* are functions that operate on a class or\n",
    "instance of a class. It can be used to initialize state. \n",
    "\n",
    "While this whole process occurs in one method in most languages, in Python\n",
    "there's two of them to do this job:\n",
    "\n",
    "- `__new__`: called first to construct the object which takes care of memory\n",
    "  allocation\n",
    "- `__init__`: called second to initialize the object\n",
    "\n",
    "You can override these methods as needed.\n",
    "\n",
    "> NOTE: you will probably never need to override `__new__`, but it's very common\n",
    "> to override `__init__`.\n"
   ]
  },
  {
   "cell_type": "markdown",
   "metadata": {},
   "source": [
    "#### `__init__`"
   ]
  },
  {
   "cell_type": "markdown",
   "metadata": {},
   "source": [
    "Set up just like a normal function, but notice the `self` parameter. This always\n",
    "shows up first on *instance methods* which are methods that act on an instance\n",
    "of an class."
   ]
  },
  {
   "cell_type": "code",
   "execution_count": null,
   "metadata": {},
   "outputs": [],
   "source": [
    "class Name:\n",
    "    def __init__(self) -> None:\n",
    "        self.first: str = \"\"\n",
    "        self.last: str = \"\""
   ]
  },
  {
   "cell_type": "code",
   "execution_count": null,
   "metadata": {},
   "outputs": [],
   "source": [
    "name1 = Name()\n",
    "name2 = Name()\n",
    "print(\"name1:\", name1.first, name1.last)\n",
    "print(\"name2:\", name2.first, name2.last)\n",
    "name1 is name2"
   ]
  },
  {
   "cell_type": "code",
   "execution_count": null,
   "metadata": {},
   "outputs": [],
   "source": [
    "name1.first = \"Ivan\"\n",
    "name1.last = \"Oder\"\n",
    "print(\"name1:\", name1.first, name1.last)\n",
    "print(\"name2:\", name2.first, name2.last)"
   ]
  },
  {
   "cell_type": "markdown",
   "metadata": {},
   "source": [
    "Since `__init__` is just like a regular function, arguments can be provided the\n",
    "same way (after `self`)."
   ]
  },
  {
   "cell_type": "code",
   "execution_count": null,
   "metadata": {},
   "outputs": [],
   "source": [
    "class Name:\n",
    "    def __init__(\n",
    "        self, first: str, last: str, middle: str = \"\", nickname: Optional[str] = None\n",
    "    ) -> None:\n",
    "        self.first = first\n",
    "        self.last = last\n",
    "        self.middle = middle\n",
    "        self.nickname = nickname or \"Old sport\"  # default nickname"
   ]
  },
  {
   "cell_type": "markdown",
   "metadata": {},
   "source": [
    "Now we can pass in state during the construction / initialization process."
   ]
  },
  {
   "cell_type": "code",
   "execution_count": null,
   "metadata": {},
   "outputs": [],
   "source": [
    "name1 = Name(\"Ivan\", \"Oder\")\n",
    "print(name1.first, name1.last)"
   ]
  },
  {
   "cell_type": "code",
   "execution_count": null,
   "metadata": {},
   "outputs": [],
   "source": [
    "name2 = Name(\"Earl\", \"Riser\", middle=\"Lee\")\n",
    "print(name2.first, name2.middle, name2.last)"
   ]
  },
  {
   "cell_type": "markdown",
   "metadata": {},
   "source": [
    "#### `__new__`"
   ]
  },
  {
   "cell_type": "markdown",
   "metadata": {},
   "source": [
    "So what does new do exactly? Maybe the one thing you might do with `__new__` is\n",
    "use it to create *singleton* types, which is a design pattern which restricts\n",
    "all objects of types to one instance."
   ]
  },
  {
   "cell_type": "code",
   "execution_count": null,
   "metadata": {},
   "outputs": [],
   "source": [
    "class Singleton:\n",
    "    # Class variable that holds an instance to itself \n",
    "    _obj: Self = None # type: ignore\n",
    "\n",
    "    def __new__(cls) -> Self:\n",
    "        # We only create a new instance if we haven't already done so\n",
    "        if cls._obj is None:\n",
    "            cls._obj = super().__new__(cls)\n",
    "        return cls._obj\n",
    "\n",
    "    def __init__(self) -> None:\n",
    "        # We can still have instance data\n",
    "        self.data = \"Some data\""
   ]
  },
  {
   "cell_type": "code",
   "execution_count": null,
   "metadata": {},
   "outputs": [],
   "source": [
    "s1 = Singleton()\n",
    "s2 = Singleton()"
   ]
  },
  {
   "cell_type": "markdown",
   "metadata": {},
   "source": [
    "These are the same object."
   ]
  },
  {
   "cell_type": "code",
   "execution_count": null,
   "metadata": {},
   "outputs": [],
   "source": [
    "s1 is s2"
   ]
  },
  {
   "cell_type": "code",
   "execution_count": null,
   "metadata": {},
   "outputs": [],
   "source": [
    "s1.data, s2.data"
   ]
  },
  {
   "cell_type": "code",
   "execution_count": null,
   "metadata": {},
   "outputs": [],
   "source": [
    "s1.data = \"Some other data\""
   ]
  },
  {
   "cell_type": "code",
   "execution_count": null,
   "metadata": {},
   "outputs": [],
   "source": [
    "s1.data, s2.data"
   ]
  },
  {
   "cell_type": "markdown",
   "metadata": {},
   "source": [
    "##### When would you use this?"
   ]
  },
  {
   "cell_type": "markdown",
   "metadata": {},
   "source": [
    "### Instance methods"
   ]
  },
  {
   "cell_type": "markdown",
   "metadata": {},
   "source": [
    "`__init__` was one instance method, however we can define others that are\n",
    "indented under the class name with first argument of `self`."
   ]
  },
  {
   "cell_type": "code",
   "execution_count": null,
   "metadata": {},
   "outputs": [],
   "source": [
    "from typing import Optional\n",
    "class Name:\n",
    "    def __init__(self, first: str, last: str, middle: Optional[str] = None) -> None:\n",
    "        self.first = first\n",
    "        self.last = last\n",
    "        self.middle = middle\n",
    "\n",
    "    def has_middle_name(self) -> bool:\n",
    "        \"\"\"Whether has a middle name\"\"\"\n",
    "        return self.middle is not None\n",
    "    \n",
    "    def full_name(self) -> str:\n",
    "        \"\"\"Full name string representation\"\"\"\n",
    "        if self.has_middle_name():\n",
    "            return f\"{self.first} {self.middle} {self.last}\"\n",
    "        else:\n",
    "            return f\"{self.first} {self.last}\"\n"
   ]
  },
  {
   "cell_type": "code",
   "execution_count": null,
   "metadata": {},
   "outputs": [],
   "source": [
    "name1 = Name(\"Ivan\", \"Oder\")\n",
    "name2 = Name(\"Earl\", \"Riser\", middle=\"Lee\")"
   ]
  },
  {
   "cell_type": "code",
   "execution_count": null,
   "metadata": {},
   "outputs": [],
   "source": [
    "name1.has_middle_name(), name2.has_middle_name()"
   ]
  },
  {
   "cell_type": "code",
   "execution_count": null,
   "metadata": {},
   "outputs": [],
   "source": [
    "name1.full_name(), name2.full_name()"
   ]
  },
  {
   "cell_type": "markdown",
   "metadata": {},
   "source": [
    "### Other dunder instance methods"
   ]
  },
  {
   "cell_type": "markdown",
   "metadata": {},
   "source": [
    "#### `__repr__`"
   ]
  },
  {
   "cell_type": "markdown",
   "metadata": {},
   "source": [
    "- Used for debugging, and is invoked for REPL output or if called `repr()`\n",
    "- Often designed to give a way to reconstruct the object from a string using `eval()`"
   ]
  },
  {
   "cell_type": "code",
   "execution_count": null,
   "metadata": {},
   "outputs": [],
   "source": [
    "class NameNoRepr:\n",
    "    def __init__(self, first: str, last: str) -> None:\n",
    "        self.first = first\n",
    "        self.last = last"
   ]
  },
  {
   "cell_type": "code",
   "execution_count": null,
   "metadata": {},
   "outputs": [],
   "source": [
    "name_no_repr = NameNoRepr(\"Bart\", \"Ender\")\n",
    "name_no_repr, str(name_no_repr)"
   ]
  },
  {
   "cell_type": "code",
   "execution_count": null,
   "metadata": {},
   "outputs": [],
   "source": [
    "class NameWithRepr:\n",
    "    def __init__(self, first: str, last: str) -> None:\n",
    "        self.first = first\n",
    "        self.last = last\n",
    "    \n",
    "    def __repr__(self) -> str:\n",
    "        return f\"NameWithRepr(first='{self.first}', last='{self.last}')\""
   ]
  },
  {
   "cell_type": "code",
   "execution_count": null,
   "metadata": {},
   "outputs": [],
   "source": [
    "name_with_repr = NameWithRepr(\"Bart\", \"Ender\")\n",
    "name_with_repr # Wil print automatically"
   ]
  },
  {
   "cell_type": "code",
   "execution_count": null,
   "metadata": {},
   "outputs": [],
   "source": [
    "name_with_repr_str = repr(name_with_repr)\n",
    "name_with_repr_str"
   ]
  },
  {
   "cell_type": "code",
   "execution_count": null,
   "metadata": {},
   "outputs": [],
   "source": [
    "recreate = eval(name_with_repr_str)\n",
    "type(recreate), recreate"
   ]
  },
  {
   "cell_type": "markdown",
   "metadata": {},
   "source": [
    "`__repr__` will be used to generate a string from the object if no `__str__`\n",
    "method is defined."
   ]
  },
  {
   "cell_type": "code",
   "execution_count": null,
   "metadata": {},
   "outputs": [],
   "source": [
    "repr(name_with_repr), str(name_with_repr)"
   ]
  },
  {
   "cell_type": "markdown",
   "metadata": {},
   "source": [
    "#### `__str__`\n",
    "\n",
    "- Used to create a more readable representation, i.e. how you'd want to display\n",
    "  if printing it"
   ]
  },
  {
   "cell_type": "code",
   "execution_count": null,
   "metadata": {},
   "outputs": [],
   "source": [
    "class NameWithReprAndStr:\n",
    "    def __init__(self, first: str, last: str) -> None:\n",
    "        self.first = first\n",
    "        self.last = last\n",
    "    \n",
    "    def __repr__(self) -> str:\n",
    "        return f\"NameWithRepr(first='{self.first}', last='{self.last}')\"\n",
    "        \n",
    "    def __str__(self) -> str:\n",
    "        return f\"{self.first} {self.last}\""
   ]
  },
  {
   "cell_type": "code",
   "execution_count": null,
   "metadata": {},
   "outputs": [],
   "source": [
    "name_with_repr_and_str = NameWithReprAndStr(\"Constance\", \"Noring\")"
   ]
  },
  {
   "cell_type": "code",
   "execution_count": null,
   "metadata": {},
   "outputs": [],
   "source": [
    "name_with_repr_and_str # invokes repr() implicitly"
   ]
  },
  {
   "cell_type": "code",
   "execution_count": null,
   "metadata": {},
   "outputs": [],
   "source": [
    "print(name_with_repr_and_str) # invokes str() implicitly"
   ]
  },
  {
   "cell_type": "markdown",
   "metadata": {},
   "source": [
    "Unambiguously"
   ]
  },
  {
   "cell_type": "code",
   "execution_count": null,
   "metadata": {},
   "outputs": [],
   "source": [
    "repr(name_with_repr_and_str), str(name_with_repr_and_str)"
   ]
  },
  {
   "cell_type": "markdown",
   "metadata": {},
   "source": [
    "#### `__call__`"
   ]
  },
  {
   "cell_type": "markdown",
   "metadata": {},
   "source": [
    "Can be used to make an instance of a class a *callable*. Let's drop the name\n",
    "example for now."
   ]
  },
  {
   "cell_type": "code",
   "execution_count": null,
   "metadata": {},
   "outputs": [],
   "source": [
    "class MyFunc:\n",
    "    def __call__(self) -> None:\n",
    "        print(\"Function was called\")"
   ]
  },
  {
   "cell_type": "code",
   "execution_count": null,
   "metadata": {},
   "outputs": [],
   "source": [
    "f = MyFunc()\n",
    "f()"
   ]
  },
  {
   "cell_type": "markdown",
   "metadata": {},
   "source": [
    "This can be useful for many things. Previously, we created univariate\n",
    "parameterized distribution functions using closures."
   ]
  },
  {
   "cell_type": "code",
   "execution_count": null,
   "metadata": {},
   "outputs": [],
   "source": [
    "def make_normal_pdf(mu: float, sigma: float) -> Callable[[float], float]:\n",
    "    def wrapper(x: float) -> float:\n",
    "        print(\"Normal with:\", mu, sigma)\n",
    "        return  1.2345 # Normal PDF implementation\n",
    "\n",
    "    return wrapper"
   ]
  },
  {
   "cell_type": "code",
   "execution_count": null,
   "metadata": {},
   "outputs": [],
   "source": [
    "n1 = make_normal_pdf(5, 10)\n",
    "result = n1(4.2)"
   ]
  },
  {
   "cell_type": "markdown",
   "metadata": {},
   "source": [
    "Now we can do this by defining a class."
   ]
  },
  {
   "cell_type": "code",
   "execution_count": null,
   "metadata": {},
   "outputs": [],
   "source": [
    "from typing import Any\n",
    "\n",
    "\n",
    "class NormalPdf:\n",
    "    def __init__(self, mu: float, sigma: float) -> None:\n",
    "        self.mu = mu\n",
    "        self.sigma = sigma\n",
    "\n",
    "    def __call__(self, x: float) -> Any:\n",
    "        print(\"Normal with:\", self.mu, self.sigma)\n",
    "        return  1.2345 # Normal PDF implementation"
   ]
  },
  {
   "cell_type": "code",
   "execution_count": null,
   "metadata": {},
   "outputs": [],
   "source": [
    "n1 = NormalPdf(5, 10)\n",
    "result = n1(4.2)"
   ]
  },
  {
   "cell_type": "markdown",
   "metadata": {},
   "source": [
    "##### Exercise"
   ]
  },
  {
   "cell_type": "markdown",
   "metadata": {},
   "source": [
    "How would you create a function call tracker to track the number of times a\n",
    "function was called and with and what arguments? This can be a useful thing to\n",
    "do if you're having trouble understanding the behavior of your optimizer."
   ]
  },
  {
   "cell_type": "code",
   "execution_count": null,
   "metadata": {},
   "outputs": [],
   "source": [
    "from typing import Callable, Iterable\n",
    "\n",
    "class UnivariateCallTracker:\n",
    "    \"\"\"A function counter that works for our univariate function\"\"\"\n",
    "\n",
    "    def __init__(self, func: Callable[[float], float]) -> None:\n",
    "        \"\"\"Pass in a function to the counter\"\"\"\n",
    "        # Fill in details\n",
    "    \n",
    "    def __call__(self, val: float) -> float:\n",
    "        \"\"\"Call implementation\"\"\"\n",
    "        # Fill in details\n",
    "\n",
    "    def call_count(self) -> int:\n",
    "        \"\"\"Return number of times function was called\"\"\"\n",
    "        # Fill in details\n",
    "\n",
    "    def call_values(self) -> Iterable[float]:\n",
    "        \"\"\"Call count invocations\"\"\"\n",
    "        # Fill in details\n",
    "\n",
    "    def reset(self) -> None:\n",
    "        \"\"\"Reset the counter\"\"\"\n",
    "        # Fill in details\n"
   ]
  },
  {
   "cell_type": "markdown",
   "metadata": {},
   "source": [
    "### Class attributes"
   ]
  },
  {
   "cell_type": "markdown",
   "metadata": {},
   "source": [
    "Can be assigned outside of any instance methods and are accessible to all\n",
    "classes of that type. Used for attributes that should generally always be the\n",
    "same across instances."
   ]
  },
  {
   "cell_type": "markdown",
   "metadata": {},
   "source": [
    "Example, all humans have brains!"
   ]
  },
  {
   "cell_type": "code",
   "execution_count": null,
   "metadata": {},
   "outputs": [],
   "source": [
    "class Name:\n",
    "    def __init__(self, first: str, last: str) -> None:\n",
    "        self.first = first\n",
    "        self.last = last\n",
    "\n",
    "    def __str__(self) -> str:\n",
    "        return f\"{self.first} {self.last}\"\n",
    "\n",
    "\n",
    "class Person:\n",
    "    HAS_A_BRAIN: str = \"Yes!\"\n",
    "\n",
    "    def __init__(self, name: Name) -> None:\n",
    "        self.name = name\n",
    "\n",
    "    def __str__(self) -> str:\n",
    "        return f\"{self.name} has a brain? {self.HAS_A_BRAIN}\""
   ]
  },
  {
   "cell_type": "code",
   "execution_count": null,
   "metadata": {},
   "outputs": [],
   "source": [
    "barbara_liskov = Person(Name(\"Barbara\", \"Liskov\"))\n",
    "print(barbara_liskov)"
   ]
  },
  {
   "cell_type": "code",
   "execution_count": null,
   "metadata": {},
   "outputs": [],
   "source": [
    "mahatma_ghandi = Person(Name(\"Mahatma\", \"Ghandi\"))\n",
    "print(mahatma_ghandi)"
   ]
  },
  {
   "cell_type": "code",
   "execution_count": null,
   "metadata": {},
   "outputs": [],
   "source": [
    "fischer_black = Person(Name(\"Fischer\", \"Black\"))\n",
    "print(fischer_black)"
   ]
  },
  {
   "cell_type": "code",
   "execution_count": null,
   "metadata": {},
   "outputs": [],
   "source": [
    "ben_carter = Person(Name(\"Ben\", \"Carter\"))\n",
    "print(ben_carter)"
   ]
  },
  {
   "cell_type": "markdown",
   "metadata": {},
   "source": [
    "If you really need to, you can override a class variable on a particular\n",
    "instance."
   ]
  },
  {
   "cell_type": "code",
   "execution_count": null,
   "metadata": {},
   "outputs": [],
   "source": [
    "ben_carter.HAS_A_BRAIN = \"Debatable 🙃\"\n",
    "print(ben_carter)"
   ]
  },
  {
   "cell_type": "code",
   "execution_count": null,
   "metadata": {},
   "outputs": [],
   "source": [
    "print(barbara_liskov)\n",
    "print(mahatma_ghandi)\n",
    "print(fischer_black)"
   ]
  },
  {
   "cell_type": "markdown",
   "metadata": {},
   "source": [
    "### Class methods"
   ]
  },
  {
   "cell_type": "markdown",
   "metadata": {},
   "source": [
    "Methods can also be defined at the class level. These are often used as a more\n",
    "self-documenting `__init__` method.\n",
    "\n",
    "You need the `classmethod` decorator."
   ]
  },
  {
   "cell_type": "code",
   "execution_count": null,
   "metadata": {},
   "outputs": [],
   "source": [
    "from typing import Self\n",
    "\n",
    "\n",
    "class Name:\n",
    "    def __init__(self, first: str, last: str) -> None:\n",
    "        self.first = first\n",
    "        self.last = last\n",
    "\n",
    "    @classmethod\n",
    "    def from_csv(cls, csv: str) -> Self:\n",
    "        first, last = csv.split(\",\")\n",
    "        return cls(first, last)\n",
    "\n",
    "    def __str__(self) -> str:\n",
    "        return f\"{self.first} {self.last}\""
   ]
  },
  {
   "cell_type": "code",
   "execution_count": null,
   "metadata": {},
   "outputs": [],
   "source": [
    "name1 = Name(\"Barb\", \"Dwyer\")\n",
    "name2 = Name.from_csv(\"Ella,Vader\")\n",
    "name3 = Name.from_csv(\"Sue,Yu\")\n",
    "print(name1)\n",
    "print(name2)\n",
    "print(name3)"
   ]
  },
  {
   "cell_type": "markdown",
   "metadata": {},
   "source": [
    "An example from the wild."
   ]
  },
  {
   "cell_type": "code",
   "execution_count": null,
   "metadata": {},
   "outputs": [],
   "source": [
    "import pandas as pd"
   ]
  },
  {
   "cell_type": "code",
   "execution_count": null,
   "metadata": {},
   "outputs": [],
   "source": [
    "pd.DataFrame.from_dict({\"a\": [1, 2, 3], \"b\": [\"d\", \"e\", \"f\"]})"
   ]
  },
  {
   "cell_type": "markdown",
   "metadata": {},
   "source": [
    "### Inheritance"
   ]
  },
  {
   "cell_type": "markdown",
   "metadata": {},
   "source": [
    "This is the mechanism by which we can reuse common functionality."
   ]
  },
  {
   "cell_type": "code",
   "execution_count": null,
   "metadata": {},
   "outputs": [],
   "source": [
    "class Creature:\n",
    "    \"\"\"Parent class for living creatures\"\"\"\n",
    "\n",
    "    def __init__(self, name: str = \"\") -> None:\n",
    "        self.name = name\n",
    "\n",
    "    def print_name(self):\n",
    "        print(self.name)\n",
    "\n",
    "    def eat(self, food: str) -> None:\n",
    "        print(f\"Yum, {self.name} is eating {food} with gratitude\")\n",
    "\n",
    "\n",
    "class Person(Creature):\n",
    "    def __init__(self, name: str) -> None:\n",
    "        super().__init__(name)\n",
    "\n",
    "    def talk(self) -> None:\n",
    "        print(\"I'd like a coffee\")\n",
    "\n",
    "\n",
    "class Dog(Creature):\n",
    "    def __init__(self, name: str) -> None:\n",
    "        super().__init__(name)\n",
    "\n",
    "    def bark(self) -> None:\n",
    "        print(\"Woof grr bark woof\")\n",
    "\n",
    "\n",
    "class Cat(Creature):\n",
    "    def __init__(self, name: str) -> None:\n",
    "        super().__init__(name)\n",
    "\n",
    "    def meow(self) -> None:\n",
    "        print(\"Woof grr bark woof\")\n",
    "\n",
    "\n",
    "class SuperMan(Creature):\n",
    "    def __init__(self, name: str) -> None:\n",
    "        super().__init__(name)\n",
    "\n",
    "    def fly(self) -> None:\n",
    "        print(self.name, \"is flying\")\n",
    "\n",
    "\n",
    "class NotSuperMan(Creature):\n",
    "    def __init__(self, name: str) -> None:\n",
    "        # No super() call here\n",
    "        self.name\n",
    "\n",
    "    def fly(self) -> None:\n",
    "        print(self.name, \"cannot flying\")"
   ]
  },
  {
   "cell_type": "markdown",
   "metadata": {},
   "source": [
    "Let's create some objects."
   ]
  },
  {
   "cell_type": "code",
   "execution_count": null,
   "metadata": {},
   "outputs": [],
   "source": [
    "me = Person(\"Ben\")\n",
    "my_cat1 = Cat(\"Mac\")\n",
    "my_cat2 = Cat(\"Basil\")\n",
    "my_cat3 = Cat(\"Bean Joe\")\n",
    "my_dog1 = Dog(\"Holly\")\n",
    "my_dog2 = Dog(\"Noodle\")"
   ]
  },
  {
   "cell_type": "markdown",
   "metadata": {},
   "source": [
    "We're all subtypes of the same thing."
   ]
  },
  {
   "cell_type": "code",
   "execution_count": null,
   "metadata": {},
   "outputs": [],
   "source": [
    "isinstance(me, Creature), isinstance(my_cat1, Creature)"
   ]
  },
  {
   "cell_type": "markdown",
   "metadata": {},
   "source": [
    "We can invoke common functionality defined in the parent class."
   ]
  },
  {
   "cell_type": "code",
   "execution_count": null,
   "metadata": {},
   "outputs": [],
   "source": [
    "me.eat(\"gruel\")"
   ]
  },
  {
   "cell_type": "code",
   "execution_count": null,
   "metadata": {},
   "outputs": [],
   "source": [
    "my_cat1.eat(\"cat food\")"
   ]
  },
  {
   "cell_type": "code",
   "execution_count": null,
   "metadata": {},
   "outputs": [],
   "source": [
    "my_dog1.eat(\"garbage\")"
   ]
  },
  {
   "cell_type": "code",
   "execution_count": null,
   "metadata": {},
   "outputs": [],
   "source": [
    "me.print_name()\n",
    "my_dog1.print_name()"
   ]
  },
  {
   "cell_type": "markdown",
   "metadata": {},
   "source": [
    "Also we have our own more specific methods that are only relevant for the\n",
    "subtype."
   ]
  },
  {
   "cell_type": "code",
   "execution_count": null,
   "metadata": {},
   "outputs": [],
   "source": [
    "me.talk()\n",
    "my_dog1.bark()"
   ]
  },
  {
   "cell_type": "markdown",
   "metadata": {},
   "source": [
    "> The calls to `super().__init__()` to initialize the parent class. This is\n",
    "> important to properly initialize the state held in the parent."
   ]
  },
  {
   "cell_type": "code",
   "execution_count": null,
   "metadata": {},
   "outputs": [],
   "source": [
    "super_man = SuperMan(\"Clark\")\n",
    "super_man.print_name()\n"
   ]
  },
  {
   "cell_type": "code",
   "execution_count": null,
   "metadata": {
    "tags": [
     "raises-exception"
    ]
   },
   "outputs": [],
   "source": [
    "ben = NotSuperMan(\"Ben\")\n",
    "ben.print_name()"
   ]
  },
  {
   "cell_type": "markdown",
   "metadata": {},
   "source": [
    "#### Overriding methods"
   ]
  },
  {
   "cell_type": "markdown",
   "metadata": {},
   "source": [
    "Sometimes we want to have default functionality but specialize it for certain\n",
    "instances. For example, we had different methods to vocalize above *bark*,\n",
    "*talk*, etc."
   ]
  },
  {
   "cell_type": "code",
   "execution_count": null,
   "metadata": {},
   "outputs": [],
   "source": [
    "class Name:\n",
    "    def __init__(self, first: str, last: str) -> None:\n",
    "        self.first = first\n",
    "        self.last = last\n",
    "\n",
    "    def __str__(self) -> str:\n",
    "        return f\"{self.first} {self.last}\"\n",
    "\n",
    "\n",
    "class SpeakableCreature:\n",
    "    def __init__(self, name: Name) -> None:\n",
    "        self.name = name\n",
    "\n",
    "    def print_name(self) -> None:\n",
    "        print(self.name)\n",
    "\n",
    "    def speak(self) -> None:\n",
    "        \"\"\"By default, a speakable creature will make a general groaning sound\"\"\"\n",
    "        print(\"Myaaeeeeuuu\")\n",
    "\n",
    "\n",
    "class Zombie(SpeakableCreature):\n",
    "    def __init__(self, name: Name) -> None:\n",
    "        super().__init__(name)\n",
    "\n",
    "\n",
    "class Person(SpeakableCreature):\n",
    "    def __init__(self, name: Name) -> None:\n",
    "        super().__init__(name)\n",
    "\n",
    "    def speak(self) -> None:\n",
    "        print(\"Rock on man!\")\n",
    "\n",
    "\n",
    "class Dog(SpeakableCreature):\n",
    "    def __init__(self, name: Name) -> None:\n",
    "        super().__init__(name)\n",
    "\n",
    "    def speak(self) -> None:\n",
    "        print(\"Woof grr bark woof\")\n",
    "\n",
    "class Baby(SpeakableCreature):\n",
    "    def __init__(self, name: Name) -> None:\n",
    "        super().__init__(name)"
   ]
  },
  {
   "cell_type": "code",
   "execution_count": null,
   "metadata": {},
   "outputs": [],
   "source": [
    "living_rob = Person(Name(\"Rob\", \"Downey Jr.\"))\n",
    "zombie_rob = Zombie(Name(\"Rob\", \"Zombie\"))\n",
    "dog_rob = Dog(Name(\"Rob\", \"The dog\"))\n",
    "baby_rob = Baby(Name(\"Rob\", \"The baby\"))"
   ]
  },
  {
   "cell_type": "code",
   "execution_count": null,
   "metadata": {},
   "outputs": [],
   "source": [
    "living_rob.speak() # Uses overridden\n",
    "zombie_rob.speak() # Uses default\n",
    "dog_rob.speak() # Uses overridden\n",
    "baby_rob.speak() # Uses default"
   ]
  },
  {
   "cell_type": "markdown",
   "metadata": {},
   "source": [
    "## Basic concepts and usage"
   ]
  },
  {
   "cell_type": "markdown",
   "metadata": {},
   "source": [
    "### Inheriting from Python exceptions"
   ]
  },
  {
   "cell_type": "markdown",
   "metadata": {},
   "source": [
    "A common practice is if one of the built-in exception types is not relevant, for\n",
    "your use case then inherit from the most relevant one to create your specific\n",
    "one."
   ]
  },
  {
   "cell_type": "code",
   "execution_count": null,
   "metadata": {},
   "outputs": [],
   "source": [
    "class BeingLazyException(RuntimeError):\n",
    "    def __init__(self, msg: str) -> None:\n",
    "        super().__init__(msg)"
   ]
  },
  {
   "cell_type": "code",
   "execution_count": null,
   "metadata": {
    "tags": [
     "raises-exception"
    ]
   },
   "outputs": [],
   "source": [
    "raise BeingLazyException(\"It's the weekend! I'm having a cocktail, come back later.\")"
   ]
  },
  {
   "cell_type": "markdown",
   "metadata": {},
   "source": [
    "### Hiding things"
   ]
  },
  {
   "cell_type": "markdown",
   "metadata": {},
   "source": [
    "Generally it's good practice to show as little about the class as possible and\n",
    "make things that users of the type don't need to know about *private* (this is\n",
    "part of encapsulation).\n",
    "\n",
    "In Python there's no way to actually do this, so we rely on convention of\n",
    "leading underscore."
   ]
  },
  {
   "cell_type": "code",
   "execution_count": null,
   "metadata": {},
   "outputs": [],
   "source": [
    "class MoodyCalculation:\n",
    "    \"\"\"Performs a calculation based off its mood\"\"\"\n",
    "    def __init__(self, val: float) -> None:\n",
    "        self.val = val # We're ok letting this get accessed\n",
    "        self._weekend_days = (5, 6) # An implementation detail that's private\n",
    "\n",
    "    def perform_calculation(self) -> None:\n",
    "        today = date.today()\n",
    "        if self._is_weekend(today):\n",
    "            raise BeingLazyException(\"I don't want to do this on a weekend!\")\n",
    "        elif self._is_tired(today):\n",
    "            raise BeingLazyException(\"I'm le tired\")\n",
    "        self.val = 42 * today.weekday()\n",
    "\n",
    "    def _is_weekend(self, d: date) -> bool:\n",
    "        \"\"\"Private helper method to determine if weekend\"\"\"\n",
    "        return d.weekday() in self._weekend_days\n",
    "\n",
    "    def _is_tired(self, d: date) -> bool:\n",
    "        tired_day = random.randint(0, 6)\n",
    "        tired = False\n",
    "        if d.weekday() == tired_day:\n",
    "            tired = True\n",
    "        return tired\n",
    "            "
   ]
  },
  {
   "cell_type": "markdown",
   "metadata": {},
   "source": [
    "Keep running this."
   ]
  },
  {
   "cell_type": "code",
   "execution_count": null,
   "metadata": {
    "tags": [
     "raises-exception"
    ]
   },
   "outputs": [],
   "source": [
    "calculation = MoodyCalculation(1234)\n",
    "calculation.perform_calculation()\n",
    "calculation.val"
   ]
  },
  {
   "cell_type": "markdown",
   "metadata": {},
   "source": [
    "### Enums"
   ]
  },
  {
   "cell_type": "markdown",
   "metadata": {},
   "source": [
    "Act as labels for a collection of things."
   ]
  },
  {
   "cell_type": "code",
   "execution_count": null,
   "metadata": {},
   "outputs": [],
   "source": [
    "from enum import IntEnum\n",
    "\n",
    "class Weekday(IntEnum):\n",
    "    MONDAY = 1\n",
    "    TUESDAY = 2\n",
    "    WEDNESDAY = 3\n",
    "    THURSDAY = 4\n",
    "    FRIDAY = 5\n",
    "    SATURDAY = 6\n",
    "    SUNDAY = 7"
   ]
  },
  {
   "cell_type": "code",
   "execution_count": null,
   "metadata": {},
   "outputs": [],
   "source": [
    "class_day = Weekday.WEDNESDAY"
   ]
  },
  {
   "cell_type": "code",
   "execution_count": null,
   "metadata": {},
   "outputs": [],
   "source": [
    "if class_day == Weekday.WEDNESDAY:\n",
    "    print(\"FM 5151 is tonight!\")"
   ]
  },
  {
   "cell_type": "code",
   "execution_count": null,
   "metadata": {},
   "outputs": [],
   "source": [
    "class_day # Repr"
   ]
  },
  {
   "cell_type": "code",
   "execution_count": null,
   "metadata": {},
   "outputs": [],
   "source": [
    "class_day.value, class_day.name"
   ]
  },
  {
   "cell_type": "markdown",
   "metadata": {},
   "source": [
    "### Polymorphism"
   ]
  },
  {
   "cell_type": "markdown",
   "metadata": {},
   "source": [
    "Objects can be substituted that share the same interface. Above we defined\n",
    "different creatures. They're all different subclasses of `SpeakableCreature`\n",
    "but can be substituted for each other because of their common interface.\n"
   ]
  },
  {
   "cell_type": "code",
   "execution_count": null,
   "metadata": {},
   "outputs": [],
   "source": [
    "creatures = [dog_rob, living_rob, zombie_rob]\n",
    "def print_creatures(creatures: list[SpeakableCreature]):\n",
    "    for creature in creatures:\n",
    "        print(\"---\")\n",
    "        creature.print_name()\n",
    "        creature.speak()\n",
    "        print(\"---\")\n",
    "\n",
    "print_creatures(creatures)"
   ]
  },
  {
   "cell_type": "markdown",
   "metadata": {},
   "source": [
    "#### Duck typing"
   ]
  },
  {
   "cell_type": "markdown",
   "metadata": {},
   "source": [
    "Note that since Python is a *duck typed* language, we don't have to have the\n",
    "same common type passed in the loop above. C# is an example of a language where\n",
    "we would.\n",
    "\n",
    "*If it walks like a duck and talks like a duck then it must be a duck*"
   ]
  },
  {
   "cell_type": "code",
   "execution_count": null,
   "metadata": {},
   "outputs": [],
   "source": [
    "class Duck:\n",
    "    def __init__(self, first: str, last: str) -> None:\n",
    "        self.first = first\n",
    "        self.last = last\n",
    "\n",
    "    def print_name(self):\n",
    "        print(f\"{self.first} {self.last}\".upper())\n",
    "\n",
    "    def speak(self):\n",
    "        print(\"QUACK\")"
   ]
  },
  {
   "cell_type": "code",
   "execution_count": null,
   "metadata": {},
   "outputs": [],
   "source": [
    "creatures.append(Duck(\"Donald\", \"Duck\"))\n",
    "print_creatures(creatures)"
   ]
  }
 ],
 "metadata": {
  "kernelspec": {
   "display_name": "fm5151",
   "language": "python",
   "name": "python3"
  },
  "language_info": {
   "codemirror_mode": {
    "name": "ipython",
    "version": 3
   },
   "file_extension": ".py",
   "mimetype": "text/x-python",
   "name": "python",
   "nbconvert_exporter": "python",
   "pygments_lexer": "ipython3",
   "version": "3.13.5"
  }
 },
 "nbformat": 4,
 "nbformat_minor": 2
}
